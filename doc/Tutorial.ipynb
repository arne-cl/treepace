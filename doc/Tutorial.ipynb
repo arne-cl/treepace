{
 "metadata": {
  "name": "",
  "signature": "sha256:e0e72daf7556d77999e343db22f2492fb9c8c05bbcb92977973ed85ffb2c6b03"
 },
 "nbformat": 3,
 "nbformat_minor": 0,
 "worksheets": [
  {
   "cells": [
    {
     "cell_type": "markdown",
     "metadata": {},
     "source": [
      "Welcome to Treepace tutorial."
     ]
    },
    {
     "cell_type": "code",
     "collapsed": false,
     "input": [
      "from treepace import *\n",
      "Tree.load('a (b c)')"
     ],
     "language": "python",
     "metadata": {},
     "outputs": [
      {
       "html": [
        "<img src=\"http://chart.googleapis.com/chart?cht=gv&chl=digraph%7Bgraph%5Branksep%3D0.2%5D%3Bnode%5Bshape%3Dbox%2Cwidth%3D0.05%2Cheight%3D0.05%2Cmargin%3D0.04%2Ccolor%3D%22%23C7C7C7%22%2Cstyle%3Dfilled%2Cfillcolor%3D%22%23F3F3F3%22%2Cfontsize%3D10%2Cfontcolor%3D%22%23333333%22%5D%3Bedge%5Bpenwidth%3D1%2Carrowhead%3Dnone%2Ccolor%3D%22%23C7C7C7%22%5D%3Bn0%5Blabel%3D%22a%22%5D%3Bn1%5Blabel%3D%22b%22%5D%3Bn2%5Blabel%3D%22c%22%5D%3Bn0-%3En1%3Bn0-%3En2%3B%7D&ext=.png\"/>"
       ],
       "metadata": {},
       "output_type": "pyout",
       "prompt_number": 1,
       "text": [
        "<Tree 'a (b c)' @2fe0c70>"
       ]
      }
     ],
     "prompt_number": 1
    }
   ],
   "metadata": {}
  }
 ]
}